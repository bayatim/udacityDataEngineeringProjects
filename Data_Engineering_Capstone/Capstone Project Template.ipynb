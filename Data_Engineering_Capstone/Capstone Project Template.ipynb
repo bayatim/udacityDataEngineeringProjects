{
 "cells": [
  {
   "cell_type": "markdown",
   "metadata": {
    "editable": true
   },
   "source": [
    "# Project Title\n",
    "### Data Engineering Capstone Project\n",
    "\n",
    "#### Project Summary\n",
    "--describe your project at a high level--\n",
    "* The goal of this project is to (1) evaluate the impact of weather's temperature on tourist movements in USA, and (2)\n",
    "    predict the number of visitores in upcoming monthes based on historical data\n",
    "* The star schema is used to develop a database, which will be effectively used for handling analytical queries.\n",
    "* Data pipelines\n",
    "* Spark!, and other tools\n",
    "\n",
    "The project follows the follow steps:\n",
    "* Step 1: Scope the Project and Gather Data\n",
    "* Step 2: Explore and Assess the Data\n",
    "* Step 3: Define the Data Model\n",
    "* Step 4: Run ETL to Model the Data\n",
    "* Step 5: Complete Project Write Up"
   ]
  },
  {
   "cell_type": "markdown",
   "metadata": {
    "editable": true
   },
   "source": [
    "### Step 1: Scope the Project and Gather Data\n",
    "\n",
    "#### Scope \n",
    "Explain what you plan to do in the project in more detail. What data do you use? What is your end solution look like? What tools did you use? etc>\n",
    "* consistsing of two? fact tables referencing two dimension tables.\n",
    "\n",
    "#### Describe and Gather Data \n",
    "Describe the data sets you're using. Where did it come from? What type of information is included? \n",
    "\n",
    "* Data come from the [US National Tourism and Trade Office](https://www.kaggle.com/berkeleyearth/climate-change-earth-surface-temperature-data) and Kaggle, [world temprature](https://www.kaggle.com/berkeleyearth/climate-change-earth-surface-temperature-data)."
   ]
  },
  {
   "cell_type": "markdown",
   "metadata": {
    "editable": true
   },
   "source": [
    "## Datasets\n",
    "# I94 Immigration Data: \n",
    "    * This data comes from the US National Tourism and Trade Office.\n",
    "    * A data dictionary is included in the workspace.\n",
    "    * This is where the data comes from. https://travel.trade.gov/research/reports/i94/historical/2016.html\n",
    "    * There's a sample file so you can take a look at the data in csv format before reading it all in.\n",
    "    * You do not have to use the entire dataset, just use what you need to accomplish the goal you set at the beginning of the project.\n",
    "    \n",
    "    'i94yr   ':  '4 digit year',\n",
    "    'i94mon  ':  'Numeric month',\n",
    "    'i94addr ':  'where the immigrants resides in USA',\n",
    "\n",
    "# World Temperature Data:\n",
    "    This dataset came from Kaggle.\n",
    "    You can read more about it here. https://www.kaggle.com/berkeleyearth/climate-change-earth-surface-temperature-data\n",
    "    \n",
    "    'dt',\n",
    "    'AverageTemperature',\n",
    "    'City',\n",
    "    'Country',\n",
    "\n",
    "# U.S. City Demographic Data:\n",
    "    This data comes from OpenSoft.\n",
    "    You can read more about it here. https://public.opendatasoft.com/explore/dataset/us-cities-demographics/export/\n",
    "\n",
    "# Airport Code Table:\n",
    "    This is a simple table of airport codes and corresponding cities.\n",
    "    It comes from here. https://datahub.io/core/airport-codes#data"
   ]
  },
  {
   "cell_type": "code",
   "execution_count": 1,
   "metadata": {
    "editable": true
   },
   "outputs": [],
   "source": [
    "# Do all imports and installs here\n",
    "import pandas as pd\n",
    "import logging\n",
    "import matplotlib.pyplot as plt\n",
    "import datetime\n",
    "import pyspark.sql.functions as F"
   ]
  },
  {
   "cell_type": "code",
   "execution_count": 2,
   "metadata": {
    "editable": true
   },
   "outputs": [],
   "source": [
    "from pyspark.sql import SparkSession\n",
    "spark = SparkSession.builder.\\\n",
    "    config(\"spark.jars.packages\",\"saurfang:spark-sas7bdat:2.0.0-s_2.11\")\\\n",
    "    .enableHiveSupport().getOrCreate()"
   ]
  },
  {
   "cell_type": "code",
   "execution_count": null,
   "metadata": {
    "editable": true
   },
   "outputs": [],
   "source": [
    "write to parquet --> to be done once only\n",
    "df_spark =spark.read.format('com.github.saurfang.sas.spark').load('../../data/18-83510-I94-Data-2016/i94_apr16_sub.sas7bdat')\n",
    "#df_spark.write.parquet(\"sas_data2\")"
   ]
  },
  {
   "cell_type": "code",
   "execution_count": 13,
   "metadata": {
    "editable": true
   },
   "outputs": [],
   "source": [
    "df_immagrants=spark.read.parquet(\"sas_data2\")\n",
    "df_address = df_immagrants.select(['i94yr', 'i94mon', 'i94addr'])\n",
    "#df_address.where(df_address.i94yr == 2016).limit(10).toPandas()"
   ]
  },
  {
   "cell_type": "code",
   "execution_count": 24,
   "metadata": {
    "editable": true
   },
   "outputs": [
    {
     "name": "stdout",
     "output_type": "stream",
     "text": [
      "+----------+------------------+-----------------------------+-------+-------------+--------+---------+\n",
      "|        dt|AverageTemperature|AverageTemperatureUncertainty|   City|      Country|Latitude|Longitude|\n",
      "+----------+------------------+-----------------------------+-------+-------------+--------+---------+\n",
      "|1820-01-01|2.1010000000000004|                        3.217|Abilene|United States|  32.95N|  100.53W|\n",
      "|1820-02-01|             6.926|                        2.853|Abilene|United States|  32.95N|  100.53W|\n",
      "|1820-03-01|            10.767|                        2.395|Abilene|United States|  32.95N|  100.53W|\n",
      "|1820-04-01|17.988999999999994|                        2.202|Abilene|United States|  32.95N|  100.53W|\n",
      "|1820-05-01|            21.809|                        2.036|Abilene|United States|  32.95N|  100.53W|\n",
      "|1820-06-01|            25.682|                        2.008|Abilene|United States|  32.95N|  100.53W|\n",
      "|1820-07-01|            26.268|           1.8019999999999998|Abilene|United States|  32.95N|  100.53W|\n",
      "|1820-08-01|            25.048|                        1.895|Abilene|United States|  32.95N|  100.53W|\n",
      "|1820-09-01|            22.435|           2.2159999999999997|Abilene|United States|  32.95N|  100.53W|\n",
      "|1820-10-01|             15.83|                        2.169|Abilene|United States|  32.95N|  100.53W|\n",
      "|1820-11-01|             9.408|           2.0709999999999997|Abilene|United States|  32.95N|  100.53W|\n",
      "|1820-12-01|             3.853|                        2.455|Abilene|United States|  32.95N|  100.53W|\n",
      "|1821-01-01| 5.276000000000002|                         3.24|Abilene|United States|  32.95N|  100.53W|\n",
      "|1821-02-01| 7.587999999999999|                         3.58|Abilene|United States|  32.95N|  100.53W|\n",
      "|1821-03-01|            11.728|           2.6910000000000003|Abilene|United States|  32.95N|  100.53W|\n",
      "|1821-04-01|            15.461|                        2.178|Abilene|United States|  32.95N|  100.53W|\n",
      "|1821-05-01|21.488000000000003|                        2.189|Abilene|United States|  32.95N|  100.53W|\n",
      "|1821-06-01|            25.768|                        2.653|Abilene|United States|  32.95N|  100.53W|\n",
      "|1821-07-01|            26.553|                        2.291|Abilene|United States|  32.95N|  100.53W|\n",
      "|1821-08-01|            27.272|                        2.318|Abilene|United States|  32.95N|  100.53W|\n",
      "+----------+------------------+-----------------------------+-------+-------------+--------+---------+\n",
      "only showing top 20 rows\n",
      "\n"
     ]
    }
   ],
   "source": [
    "# World temprature data\n",
    "fname = '../../data2/GlobalLandTemperaturesByCity.csv'\n",
    "df_tempr = spark.read.csv(fname, header=True)\n",
    "df_tempr = df_tempr.where(df_tempr.Country == 'United States')\n",
    "df_tempr.show()"
   ]
  },
  {
   "cell_type": "markdown",
   "metadata": {
    "editable": true
   },
   "source": [
    "### Step 2: Explore and Assess the Data\n",
    "#### Explore the Data \n",
    "Identify data quality issues, like missing values, duplicate data, etc.\n",
    "\n",
    "#### Cleaning Steps\n",
    "Document steps necessary to clean the data"
   ]
  },
  {
   "cell_type": "code",
   "execution_count": 11,
   "metadata": {
    "editable": true
   },
   "outputs": [
    {
     "data": {
      "text/html": [
       "<div>\n",
       "<style scoped>\n",
       "    .dataframe tbody tr th:only-of-type {\n",
       "        vertical-align: middle;\n",
       "    }\n",
       "\n",
       "    .dataframe tbody tr th {\n",
       "        vertical-align: top;\n",
       "    }\n",
       "\n",
       "    .dataframe thead th {\n",
       "        text-align: right;\n",
       "    }\n",
       "</style>\n",
       "<table border=\"1\" class=\"dataframe\">\n",
       "  <thead>\n",
       "    <tr style=\"text-align: right;\">\n",
       "      <th></th>\n",
       "      <th>i94yr</th>\n",
       "      <th>i94mon</th>\n",
       "      <th>i94addr</th>\n",
       "    </tr>\n",
       "  </thead>\n",
       "  <tbody>\n",
       "    <tr>\n",
       "      <th>0</th>\n",
       "      <td>2016.0</td>\n",
       "      <td>4.0</td>\n",
       "      <td>CA</td>\n",
       "    </tr>\n",
       "    <tr>\n",
       "      <th>1</th>\n",
       "      <td>2016.0</td>\n",
       "      <td>4.0</td>\n",
       "      <td>NV</td>\n",
       "    </tr>\n",
       "    <tr>\n",
       "      <th>2</th>\n",
       "      <td>2016.0</td>\n",
       "      <td>4.0</td>\n",
       "      <td>WA</td>\n",
       "    </tr>\n",
       "    <tr>\n",
       "      <th>3</th>\n",
       "      <td>2016.0</td>\n",
       "      <td>4.0</td>\n",
       "      <td>WA</td>\n",
       "    </tr>\n",
       "    <tr>\n",
       "      <th>4</th>\n",
       "      <td>2016.0</td>\n",
       "      <td>4.0</td>\n",
       "      <td>WA</td>\n",
       "    </tr>\n",
       "    <tr>\n",
       "      <th>5</th>\n",
       "      <td>2016.0</td>\n",
       "      <td>4.0</td>\n",
       "      <td>HI</td>\n",
       "    </tr>\n",
       "    <tr>\n",
       "      <th>6</th>\n",
       "      <td>2016.0</td>\n",
       "      <td>4.0</td>\n",
       "      <td>HI</td>\n",
       "    </tr>\n",
       "    <tr>\n",
       "      <th>7</th>\n",
       "      <td>2016.0</td>\n",
       "      <td>4.0</td>\n",
       "      <td>HI</td>\n",
       "    </tr>\n",
       "    <tr>\n",
       "      <th>8</th>\n",
       "      <td>2016.0</td>\n",
       "      <td>4.0</td>\n",
       "      <td>FL</td>\n",
       "    </tr>\n",
       "    <tr>\n",
       "      <th>9</th>\n",
       "      <td>2016.0</td>\n",
       "      <td>4.0</td>\n",
       "      <td>CA</td>\n",
       "    </tr>\n",
       "  </tbody>\n",
       "</table>\n",
       "</div>"
      ],
      "text/plain": [
       "    i94yr  i94mon i94addr\n",
       "0  2016.0     4.0      CA\n",
       "1  2016.0     4.0      NV\n",
       "2  2016.0     4.0      WA\n",
       "3  2016.0     4.0      WA\n",
       "4  2016.0     4.0      WA\n",
       "5  2016.0     4.0      HI\n",
       "6  2016.0     4.0      HI\n",
       "7  2016.0     4.0      HI\n",
       "8  2016.0     4.0      FL\n",
       "9  2016.0     4.0      CA"
      ]
     },
     "execution_count": 11,
     "metadata": {},
     "output_type": "execute_result"
    }
   ],
   "source": [
    "df_address.printSchema()"
   ]
  },
  {
   "cell_type": "code",
   "execution_count": null,
   "metadata": {
    "editable": true
   },
   "outputs": [],
   "source": [
    "df_address.limit(10).toPandas()"
   ]
  },
  {
   "cell_type": "code",
   "execution_count": 14,
   "metadata": {
    "editable": true
   },
   "outputs": [
    {
     "name": "stdout",
     "output_type": "stream",
     "text": [
      "root\n",
      " |-- i94yr: double (nullable = true)\n",
      " |-- i94mon: double (nullable = true)\n",
      " |-- i94addr: string (nullable = true)\n",
      "\n"
     ]
    }
   ],
   "source": []
  },
  {
   "cell_type": "code",
   "execution_count": 15,
   "metadata": {
    "editable": true
   },
   "outputs": [
    {
     "name": "stdout",
     "output_type": "stream",
     "text": [
      "+-------+-------+-------+\n",
      "|summary|  i94yr| i94mon|\n",
      "+-------+-------+-------+\n",
      "|  count|3096313|3096313|\n",
      "|   mean| 2016.0|    4.0|\n",
      "| stddev|    0.0|    0.0|\n",
      "|    min| 2016.0|    4.0|\n",
      "|    max| 2016.0|    4.0|\n",
      "+-------+-------+-------+\n",
      "\n"
     ]
    }
   ],
   "source": [
    "df_address.select(['i94yr', 'i94mon']).describe().show()"
   ]
  },
  {
   "cell_type": "code",
   "execution_count": 16,
   "metadata": {
    "editable": true
   },
   "outputs": [],
   "source": [
    "df_address.createOrReplaceTempView('address_table')"
   ]
  },
  {
   "cell_type": "code",
   "execution_count": 12,
   "metadata": {
    "editable": true
   },
   "outputs": [],
   "source": [
    "def value_counts(table, col):\n",
    "    return spark.sql(f\"\"\"\n",
    "    select {col}, count({col}) as count\n",
    "    from {table}\n",
    "    group by {col}\n",
    "    order by count\n",
    "    \"\"\").show(20)"
   ]
  },
  {
   "cell_type": "code",
   "execution_count": 57,
   "metadata": {
    "editable": true
   },
   "outputs": [
    {
     "name": "stdout",
     "output_type": "stream",
     "text": [
      "+------+-------+\n",
      "| i94yr|  count|\n",
      "+------+-------+\n",
      "|2016.0|3096313|\n",
      "+------+-------+\n",
      "\n",
      "+------+-------+\n",
      "|i94mon|  count|\n",
      "+------+-------+\n",
      "|   4.0|3096313|\n",
      "+------+-------+\n",
      "\n",
      "+-------+-----+\n",
      "|i94addr|count|\n",
      "+-------+-----+\n",
      "|   null|    0|\n",
      "|     KF|    1|\n",
      "|     52|    1|\n",
      "|     71|    1|\n",
      "|     S6|    1|\n",
      "|     85|    1|\n",
      "|     UL|    1|\n",
      "|     RU|    1|\n",
      "|     VL|    1|\n",
      "|     RA|    1|\n",
      "|     UR|    1|\n",
      "|     ZN|    1|\n",
      "|     TC|    1|\n",
      "|     PD|    1|\n",
      "|     YH|    1|\n",
      "|     EX|    1|\n",
      "|     RF|    1|\n",
      "|     RO|    1|\n",
      "|     73|    1|\n",
      "|     FC|    1|\n",
      "+-------+-----+\n",
      "only showing top 20 rows\n",
      "\n"
     ]
    }
   ],
   "source": [
    "value_counts('address_table', 'i94yr')\n",
    "value_counts('address_table', 'i94mon')\n",
    "value_counts('address_table', 'i94addr')"
   ]
  },
  {
   "cell_type": "markdown",
   "metadata": {
    "editable": true
   },
   "source": [
    "* The above descriptive results show that both 'i94yr' and 'i94mon' columns are clean, but there are lots of invalid codes in 'i94addr' for cities. "
   ]
  },
  {
   "cell_type": "code",
   "execution_count": 60,
   "metadata": {
    "editable": true
   },
   "outputs": [],
   "source": [
    "#TODO cast cities that are valid\n",
    "from utils.city_code import city_code\n",
    "valid_city_code = list(set(city_code.keys()))\n",
    "str_valid_city_code = str(valid_city_code).replace('[', '(').replace(']', ')')"
   ]
  },
  {
   "cell_type": "code",
   "execution_count": 87,
   "metadata": {
    "editable": true
   },
   "outputs": [],
   "source": [
    "clean_address_df = spark.sql(f\"\"\"\n",
    "select * --cast(i94yr as int), cast(i94mon as int), cast(i94addr as varchar(2))\n",
    "from address_table\n",
    "where i94yr is not null and i94mon is not null and i94addr is not null and i94addr in {str_valid_city_code}\n",
    "\"\"\")"
   ]
  },
  {
   "cell_type": "code",
   "execution_count": 88,
   "metadata": {
    "editable": true
   },
   "outputs": [],
   "source": [
    "clean_address_df.createOrReplaceTempView('clean_address_table')"
   ]
  },
  {
   "cell_type": "code",
   "execution_count": 90,
   "metadata": {
    "editable": true
   },
   "outputs": [
    {
     "name": "stdout",
     "output_type": "stream",
     "text": [
      "+-------+-----+\n",
      "|i94addr|count|\n",
      "+-------+-----+\n",
      "|     99|   52|\n",
      "|     VI|  226|\n",
      "|     WY|  460|\n",
      "|     SD|  557|\n",
      "|     WV|  808|\n",
      "|     ND| 1225|\n",
      "|     MT| 1339|\n",
      "|     VT| 1477|\n",
      "|     AK| 1604|\n",
      "|     ID| 1752|\n",
      "|     MS| 1771|\n",
      "|     NM| 1994|\n",
      "|     ME| 2361|\n",
      "|     NH| 2817|\n",
      "|     AR| 2873|\n",
      "|     DE| 3111|\n",
      "|     KS| 3224|\n",
      "|     OK| 3239|\n",
      "|     RI| 3289|\n",
      "|     IA| 3391|\n",
      "+-------+-----+\n",
      "only showing top 20 rows\n",
      "\n"
     ]
    }
   ],
   "source": [
    "value_counts('clean_address_table', 'i94addr')"
   ]
  },
  {
   "cell_type": "code",
   "execution_count": 25,
   "metadata": {
    "editable": true
   },
   "outputs": [],
   "source": [
    "df_tempr = df_tempr.select(['dt', 'Country', 'City', 'AverageTemperature'])"
   ]
  },
  {
   "cell_type": "code",
   "execution_count": 26,
   "metadata": {
    "editable": true
   },
   "outputs": [
    {
     "name": "stdout",
     "output_type": "stream",
     "text": [
      "root\n",
      " |-- dt: string (nullable = true)\n",
      " |-- Country: string (nullable = true)\n",
      " |-- City: string (nullable = true)\n",
      " |-- AverageTemperature: string (nullable = true)\n",
      "\n"
     ]
    }
   ],
   "source": [
    "df_tempr.printSchema()"
   ]
  },
  {
   "cell_type": "code",
   "execution_count": 27,
   "metadata": {
    "editable": true
   },
   "outputs": [
    {
     "data": {
      "text/html": [
       "<div>\n",
       "<style scoped>\n",
       "    .dataframe tbody tr th:only-of-type {\n",
       "        vertical-align: middle;\n",
       "    }\n",
       "\n",
       "    .dataframe tbody tr th {\n",
       "        vertical-align: top;\n",
       "    }\n",
       "\n",
       "    .dataframe thead th {\n",
       "        text-align: right;\n",
       "    }\n",
       "</style>\n",
       "<table border=\"1\" class=\"dataframe\">\n",
       "  <thead>\n",
       "    <tr style=\"text-align: right;\">\n",
       "      <th></th>\n",
       "      <th>dt</th>\n",
       "      <th>Country</th>\n",
       "      <th>City</th>\n",
       "      <th>AverageTemperature</th>\n",
       "    </tr>\n",
       "  </thead>\n",
       "  <tbody>\n",
       "    <tr>\n",
       "      <th>0</th>\n",
       "      <td>1820-01-01</td>\n",
       "      <td>United States</td>\n",
       "      <td>Abilene</td>\n",
       "      <td>2.1010000000000004</td>\n",
       "    </tr>\n",
       "    <tr>\n",
       "      <th>1</th>\n",
       "      <td>1820-02-01</td>\n",
       "      <td>United States</td>\n",
       "      <td>Abilene</td>\n",
       "      <td>6.926</td>\n",
       "    </tr>\n",
       "    <tr>\n",
       "      <th>2</th>\n",
       "      <td>1820-03-01</td>\n",
       "      <td>United States</td>\n",
       "      <td>Abilene</td>\n",
       "      <td>10.767</td>\n",
       "    </tr>\n",
       "    <tr>\n",
       "      <th>3</th>\n",
       "      <td>1820-04-01</td>\n",
       "      <td>United States</td>\n",
       "      <td>Abilene</td>\n",
       "      <td>17.988999999999994</td>\n",
       "    </tr>\n",
       "    <tr>\n",
       "      <th>4</th>\n",
       "      <td>1820-05-01</td>\n",
       "      <td>United States</td>\n",
       "      <td>Abilene</td>\n",
       "      <td>21.809</td>\n",
       "    </tr>\n",
       "    <tr>\n",
       "      <th>5</th>\n",
       "      <td>1820-06-01</td>\n",
       "      <td>United States</td>\n",
       "      <td>Abilene</td>\n",
       "      <td>25.682</td>\n",
       "    </tr>\n",
       "    <tr>\n",
       "      <th>6</th>\n",
       "      <td>1820-07-01</td>\n",
       "      <td>United States</td>\n",
       "      <td>Abilene</td>\n",
       "      <td>26.268</td>\n",
       "    </tr>\n",
       "    <tr>\n",
       "      <th>7</th>\n",
       "      <td>1820-08-01</td>\n",
       "      <td>United States</td>\n",
       "      <td>Abilene</td>\n",
       "      <td>25.048</td>\n",
       "    </tr>\n",
       "    <tr>\n",
       "      <th>8</th>\n",
       "      <td>1820-09-01</td>\n",
       "      <td>United States</td>\n",
       "      <td>Abilene</td>\n",
       "      <td>22.435</td>\n",
       "    </tr>\n",
       "    <tr>\n",
       "      <th>9</th>\n",
       "      <td>1820-10-01</td>\n",
       "      <td>United States</td>\n",
       "      <td>Abilene</td>\n",
       "      <td>15.83</td>\n",
       "    </tr>\n",
       "  </tbody>\n",
       "</table>\n",
       "</div>"
      ],
      "text/plain": [
       "           dt        Country     City  AverageTemperature\n",
       "0  1820-01-01  United States  Abilene  2.1010000000000004\n",
       "1  1820-02-01  United States  Abilene               6.926\n",
       "2  1820-03-01  United States  Abilene              10.767\n",
       "3  1820-04-01  United States  Abilene  17.988999999999994\n",
       "4  1820-05-01  United States  Abilene              21.809\n",
       "5  1820-06-01  United States  Abilene              25.682\n",
       "6  1820-07-01  United States  Abilene              26.268\n",
       "7  1820-08-01  United States  Abilene              25.048\n",
       "8  1820-09-01  United States  Abilene              22.435\n",
       "9  1820-10-01  United States  Abilene               15.83"
      ]
     },
     "execution_count": 27,
     "metadata": {},
     "output_type": "execute_result"
    }
   ],
   "source": [
    "df_tempr.limit(10).toPandas()"
   ]
  },
  {
   "cell_type": "code",
   "execution_count": 28,
   "metadata": {
    "editable": true
   },
   "outputs": [
    {
     "name": "stdout",
     "output_type": "stream",
     "text": [
      "+-------+--------------------+\n",
      "|summary|  AverageTemperature|\n",
      "+-------+--------------------+\n",
      "|  count|              661524|\n",
      "|   mean|  13.949334923600631|\n",
      "| stddev|   9.173337261791255|\n",
      "|    min|-0.00099999999999989|\n",
      "|    max|               9.999|\n",
      "+-------+--------------------+\n",
      "\n"
     ]
    }
   ],
   "source": [
    "df_tempr.select(['AverageTemperature']).describe().show()"
   ]
  },
  {
   "cell_type": "code",
   "execution_count": 29,
   "metadata": {
    "editable": true
   },
   "outputs": [],
   "source": [
    "df_tempr.createOrReplaceTempView('tempr_table')"
   ]
  },
  {
   "cell_type": "code",
   "execution_count": 30,
   "metadata": {
    "editable": true
   },
   "outputs": [
    {
     "name": "stdout",
     "output_type": "stream",
     "text": [
      "+----------+-----+\n",
      "|        dt|count|\n",
      "+----------+-----+\n",
      "|1746-07-01|   98|\n",
      "|1744-03-01|   98|\n",
      "|1752-02-01|   98|\n",
      "|1746-05-01|   98|\n",
      "|1752-09-01|   98|\n",
      "|1755-05-01|   98|\n",
      "|1746-03-01|   98|\n",
      "|1747-03-01|   98|\n",
      "|1757-07-01|   98|\n",
      "|1754-11-01|   98|\n",
      "|1755-06-01|   98|\n",
      "|1752-10-01|   98|\n",
      "|1746-11-01|   98|\n",
      "|1750-02-01|   98|\n",
      "|1747-10-01|   98|\n",
      "|1754-03-01|   98|\n",
      "|1747-07-01|   98|\n",
      "|1748-08-01|   98|\n",
      "|1746-09-01|   98|\n",
      "|1749-10-01|   98|\n",
      "+----------+-----+\n",
      "only showing top 20 rows\n",
      "\n",
      "+-------------+------+\n",
      "|      Country| count|\n",
      "+-------------+------+\n",
      "|United States|687289|\n",
      "+-------------+------+\n",
      "\n",
      "+----------------+-----+\n",
      "|            City|count|\n",
      "+----------------+-----+\n",
      "|   Moreno Valley| 1977|\n",
      "|Rancho Cucamonga| 1977|\n",
      "|      Santa Rosa| 1977|\n",
      "|          Pomona| 1977|\n",
      "|       San Diego| 1977|\n",
      "|      Sacramento| 1977|\n",
      "|   San Francisco| 1977|\n",
      "|          Orange| 1977|\n",
      "|         Visalia| 1977|\n",
      "|       Fairfield| 1977|\n",
      "|     Los Angeles| 1977|\n",
      "|     Chula Vista| 1977|\n",
      "|       Oceanside| 1977|\n",
      "|       Fullerton| 1977|\n",
      "|     Bakersfield| 1977|\n",
      "|         Fontana| 1977|\n",
      "|       Escondido| 1977|\n",
      "|         Oakland| 1977|\n",
      "|         Anaheim| 1977|\n",
      "|          Corona| 1977|\n",
      "+----------------+-----+\n",
      "only showing top 20 rows\n",
      "\n",
      "+------------------+-----+\n",
      "|AverageTemperature|count|\n",
      "+------------------+-----+\n",
      "|              null|    0|\n",
      "|           -13.512|    1|\n",
      "|21.456000000000003|    1|\n",
      "|            11.848|    1|\n",
      "|5.4769999999999985|    1|\n",
      "|3.1910000000000007|    1|\n",
      "|            -17.96|    1|\n",
      "|14.727000000000002|    1|\n",
      "|           -12.337|    1|\n",
      "|12.909000000000002|    1|\n",
      "| 7.704999999999999|    1|\n",
      "| 4.946999999999999|    1|\n",
      "| 8.921999999999997|    1|\n",
      "|2.4770000000000003|    1|\n",
      "|           -11.707|    1|\n",
      "|            29.385|    1|\n",
      "|-6.707999999999999|    1|\n",
      "|10.220999999999998|    1|\n",
      "| 5.409999999999998|    1|\n",
      "| 8.325999999999999|    1|\n",
      "+------------------+-----+\n",
      "only showing top 20 rows\n",
      "\n"
     ]
    }
   ],
   "source": [
    "for col in df_tempr.columns: value_counts('tempr_table', col)"
   ]
  },
  {
   "cell_type": "code",
   "execution_count": 56,
   "metadata": {
    "editable": true
   },
   "outputs": [],
   "source": [
    "df_tempr_clean = spark.sql(\"\"\"\n",
    "select timestamp(date(dt)) as dt, cast(Country as varchar(13)), cast(City as string), round(AverageTemperature, 2) as AverageTemperature\n",
    "from tempr_table\n",
    "where dt is not null and Country is not null and City is not null and  AverageTemperature is not null\n",
    "order by AverageTemperature \n",
    "\"\"\")"
   ]
  },
  {
   "cell_type": "code",
   "execution_count": 57,
   "metadata": {
    "editable": true
   },
   "outputs": [],
   "source": [
    "df_tempr_clean.createOrReplaceTempView('clean_tempr_table')"
   ]
  },
  {
   "cell_type": "code",
   "execution_count": 58,
   "metadata": {
    "editable": true
   },
   "outputs": [
    {
     "name": "stdout",
     "output_type": "stream",
     "text": [
      "+------------------+-----+\n",
      "|AverageTemperature|count|\n",
      "+------------------+-----+\n",
      "|            -20.83|    1|\n",
      "|            -19.93|    1|\n",
      "|            -20.78|    1|\n",
      "|            -24.59|    1|\n",
      "|            -20.59|    1|\n",
      "|            -24.16|    1|\n",
      "|            -20.27|    1|\n",
      "|            -22.65|    1|\n",
      "|            -20.21|    1|\n",
      "|            -22.45|    1|\n",
      "|            -19.77|    1|\n",
      "|            -22.06|    1|\n",
      "|            -19.61|    1|\n",
      "|            -21.94|    1|\n",
      "|            -20.19|    1|\n",
      "|            -19.53|    1|\n",
      "|            -21.75|    1|\n",
      "|            -19.31|    1|\n",
      "|            -21.68|    1|\n",
      "|            -19.08|    1|\n",
      "+------------------+-----+\n",
      "only showing top 20 rows\n",
      "\n"
     ]
    }
   ],
   "source": [
    "value_counts('clean_tempr_table', 'AverageTemperature')"
   ]
  },
  {
   "cell_type": "code",
   "execution_count": null,
   "metadata": {
    "editable": true
   },
   "outputs": [],
   "source": [
    "# Performing cleaning tasks here\n",
    "\n",
    "\n",
    "\n"
   ]
  },
  {
   "cell_type": "markdown",
   "metadata": {
    "editable": true
   },
   "source": [
    "### Step 3: Define the Data Model\n",
    "#### 3.1 Conceptual Data Model\n",
    "Map out the conceptual data model and explain why you chose that model\n",
    "* The star schema is used as datamodel of this project.\n",
    "* It is a relational model contains one fact table surrounded by two dimension tables.\n",
    "* It suits analytical queries and user can analyze the data with few number of joins.\n",
    "#### 3.2 Mapping Out Data Pipelines\n",
    "List the steps necessary to pipeline the data into the chosen data model"
   ]
  },
  {
   "cell_type": "markdown",
   "metadata": {
    "editable": true
   },
   "source": [
    "### Step 4: Run Pipelines to Model the Data \n",
    "#### 4.1 Create the data model\n",
    "Build the data pipelines to create the data model."
   ]
  },
  {
   "cell_type": "code",
   "execution_count": null,
   "metadata": {
    "editable": true
   },
   "outputs": [],
   "source": [
    "# Write code here"
   ]
  },
  {
   "cell_type": "markdown",
   "metadata": {
    "editable": true
   },
   "source": [
    "#### 4.2 Data Quality Checks\n",
    "Explain the data quality checks you'll perform to ensure the pipeline ran as expected. These could include:\n",
    " * Integrity constraints on the relational database (e.g., unique key, data type, etc.)\n",
    " * Unit tests for the scripts to ensure they are doing the right thing\n",
    " * Source/Count checks to ensure completeness\n",
    " \n",
    "Run Quality Checks"
   ]
  },
  {
   "cell_type": "code",
   "execution_count": null,
   "metadata": {
    "editable": true
   },
   "outputs": [],
   "source": [
    "# Perform quality checks here"
   ]
  },
  {
   "cell_type": "markdown",
   "metadata": {
    "editable": true
   },
   "source": [
    "#### 4.3 Data dictionary \n",
    "Create a data dictionary for your data model. For each field, provide a brief description of what the data is and where it came from. You can include the data dictionary in the notebook or in a separate file."
   ]
  },
  {
   "cell_type": "markdown",
   "metadata": {
    "editable": true
   },
   "source": [
    "#### Step 5: Complete Project Write Up\n",
    "* Clearly state the rationale for the choice of tools and technologies for the project.\n",
    "* Propose how often the data should be updated and why.\n",
    "* Write a description of how you would approach the problem differently under the following scenarios:\n",
    " * The data was increased by 100x.\n",
    " * The data populates a dashboard that must be updated on a daily basis by 7am every day.\n",
    " * The database needed to be accessed by 100+ people."
   ]
  },
  {
   "cell_type": "code",
   "execution_count": null,
   "metadata": {
    "editable": true
   },
   "outputs": [],
   "source": []
  },
  {
   "cell_type": "code",
   "execution_count": null,
   "metadata": {
    "editable": true
   },
   "outputs": [],
   "source": []
  },
  {
   "cell_type": "code",
   "execution_count": null,
   "metadata": {
    "editable": true
   },
   "outputs": [],
   "source": []
  },
  {
   "cell_type": "code",
   "execution_count": null,
   "metadata": {
    "editable": true
   },
   "outputs": [],
   "source": []
  },
  {
   "cell_type": "code",
   "execution_count": null,
   "metadata": {
    "editable": true
   },
   "outputs": [],
   "source": []
  },
  {
   "cell_type": "code",
   "execution_count": null,
   "metadata": {
    "editable": true
   },
   "outputs": [],
   "source": []
  }
 ],
 "metadata": {
  "kernelspec": {
   "display_name": "Python 3",
   "language": "python",
   "name": "python3"
  },
  "language_info": {
   "codemirror_mode": {
    "name": "ipython",
    "version": 3
   },
   "file_extension": ".py",
   "mimetype": "text/x-python",
   "name": "python",
   "nbconvert_exporter": "python",
   "pygments_lexer": "ipython3",
   "version": "3.6.3"
  }
 },
 "nbformat": 4,
 "nbformat_minor": 4
}
